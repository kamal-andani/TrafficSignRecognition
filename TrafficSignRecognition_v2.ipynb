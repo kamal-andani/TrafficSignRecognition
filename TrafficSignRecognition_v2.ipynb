{
  "nbformat": 4,
  "nbformat_minor": 0,
  "metadata": {
    "colab": {
      "name": "TrafficSignRecognition_v2",
      "provenance": [],
      "collapsed_sections": [],
      "toc_visible": true
    },
    "kernelspec": {
      "name": "python3",
      "display_name": "Python 3"
    },
    "accelerator": "GPU"
  },
  "cells": [
    {
      "cell_type": "code",
      "metadata": {
        "id": "XASV16L_7MRh",
        "colab_type": "code",
        "colab": {}
      },
      "source": [
        "import tensorflow as tf\n",
        "import matplotlib\n",
        "import matplotlib.pyplot as plt\n",
        "import numpy as np\n",
        "import random\n",
        "import os\n",
        "\n",
        "from tensorflow.keras.models import Sequential \n",
        "from tensorflow.keras.layers import Conv2D\n",
        "from tensorflow.keras.layers import Activation\n",
        "from tensorflow.keras.layers import BatchNormalization\n",
        "from tensorflow.keras.layers import MaxPooling2D\n",
        "from tensorflow.keras.layers import Flatten\n",
        "from tensorflow.keras.layers import Dense\n",
        "from tensorflow.keras.layers import Dropout\n",
        "\n",
        "from tensorflow.keras.preprocessing.image import ImageDataGenerator\n",
        "from tensorflow.keras.optimizers import Adam\n",
        "from tensorflow.keras.utils import to_categorical\n",
        "from sklearn.metrics import classification_report\n",
        "from skimage import transform\n",
        "from skimage import exposure\n",
        "from skimage import io\n",
        "from sklearn.model_selection import train_test_split\n",
        "from sklearn.metrics import classification_report\n"
      ],
      "execution_count": 0,
      "outputs": []
    },
    {
      "cell_type": "code",
      "metadata": {
        "id": "-DIFmpEClzuJ",
        "colab_type": "code",
        "outputId": "dc66819b-2901-46ee-8111-34cbec26dd8d",
        "colab": {
          "base_uri": "https://localhost:8080/",
          "height": 34
        }
      },
      "source": [
        "print(tf.__version__)"
      ],
      "execution_count": 0,
      "outputs": [
        {
          "output_type": "stream",
          "text": [
            "2.0.0\n"
          ],
          "name": "stdout"
        }
      ]
    },
    {
      "cell_type": "code",
      "metadata": {
        "id": "0wNmIjxpmiq4",
        "colab_type": "code",
        "outputId": "12060ef0-6fe5-4f30-d64a-352055480c3a",
        "colab": {
          "base_uri": "https://localhost:8080/",
          "height": 1000
        }
      },
      "source": [
        "!pip install tensorflow-gpu==2.0.0"
      ],
      "execution_count": 0,
      "outputs": [
        {
          "output_type": "stream",
          "text": [
            "Collecting tensorflow-gpu==2.0.0\n",
            "\u001b[?25l  Downloading https://files.pythonhosted.org/packages/25/44/47f0722aea081697143fbcf5d2aa60d1aee4aaacb5869aee2b568974777b/tensorflow_gpu-2.0.0-cp36-cp36m-manylinux2010_x86_64.whl (380.8MB)\n",
            "\u001b[K     |████████████████████████████████| 380.8MB 44kB/s \n",
            "\u001b[?25hRequirement already satisfied: google-pasta>=0.1.6 in /usr/local/lib/python3.6/dist-packages (from tensorflow-gpu==2.0.0) (0.1.8)\n",
            "Requirement already satisfied: six>=1.10.0 in /usr/local/lib/python3.6/dist-packages (from tensorflow-gpu==2.0.0) (1.12.0)\n",
            "Requirement already satisfied: protobuf>=3.6.1 in /usr/local/lib/python3.6/dist-packages (from tensorflow-gpu==2.0.0) (3.10.0)\n",
            "Requirement already satisfied: numpy<2.0,>=1.16.0 in /usr/local/lib/python3.6/dist-packages (from tensorflow-gpu==2.0.0) (1.17.4)\n",
            "Requirement already satisfied: opt-einsum>=2.3.2 in /usr/local/lib/python3.6/dist-packages (from tensorflow-gpu==2.0.0) (3.1.0)\n",
            "Collecting tensorflow-estimator<2.1.0,>=2.0.0\n",
            "\u001b[?25l  Downloading https://files.pythonhosted.org/packages/fc/08/8b927337b7019c374719145d1dceba21a8bb909b93b1ad6f8fb7d22c1ca1/tensorflow_estimator-2.0.1-py2.py3-none-any.whl (449kB)\n",
            "\u001b[K     |████████████████████████████████| 450kB 73.7MB/s \n",
            "\u001b[?25hRequirement already satisfied: grpcio>=1.8.6 in /usr/local/lib/python3.6/dist-packages (from tensorflow-gpu==2.0.0) (1.15.0)\n",
            "Requirement already satisfied: keras-applications>=1.0.8 in /usr/local/lib/python3.6/dist-packages (from tensorflow-gpu==2.0.0) (1.0.8)\n",
            "Requirement already satisfied: keras-preprocessing>=1.0.5 in /usr/local/lib/python3.6/dist-packages (from tensorflow-gpu==2.0.0) (1.1.0)\n",
            "Requirement already satisfied: wrapt>=1.11.1 in /usr/local/lib/python3.6/dist-packages (from tensorflow-gpu==2.0.0) (1.11.2)\n",
            "Requirement already satisfied: astor>=0.6.0 in /usr/local/lib/python3.6/dist-packages (from tensorflow-gpu==2.0.0) (0.8.1)\n",
            "Requirement already satisfied: absl-py>=0.7.0 in /usr/local/lib/python3.6/dist-packages (from tensorflow-gpu==2.0.0) (0.8.1)\n",
            "Collecting tensorboard<2.1.0,>=2.0.0\n",
            "\u001b[?25l  Downloading https://files.pythonhosted.org/packages/76/54/99b9d5d52d5cb732f099baaaf7740403e83fe6b0cedde940fabd2b13d75a/tensorboard-2.0.2-py3-none-any.whl (3.8MB)\n",
            "\u001b[K     |████████████████████████████████| 3.8MB 46.8MB/s \n",
            "\u001b[?25hRequirement already satisfied: wheel>=0.26 in /usr/local/lib/python3.6/dist-packages (from tensorflow-gpu==2.0.0) (0.33.6)\n",
            "Requirement already satisfied: gast==0.2.2 in /usr/local/lib/python3.6/dist-packages (from tensorflow-gpu==2.0.0) (0.2.2)\n",
            "Requirement already satisfied: termcolor>=1.1.0 in /usr/local/lib/python3.6/dist-packages (from tensorflow-gpu==2.0.0) (1.1.0)\n",
            "Requirement already satisfied: setuptools in /usr/local/lib/python3.6/dist-packages (from protobuf>=3.6.1->tensorflow-gpu==2.0.0) (42.0.2)\n",
            "Requirement already satisfied: h5py in /usr/local/lib/python3.6/dist-packages (from keras-applications>=1.0.8->tensorflow-gpu==2.0.0) (2.8.0)\n",
            "Requirement already satisfied: markdown>=2.6.8 in /usr/local/lib/python3.6/dist-packages (from tensorboard<2.1.0,>=2.0.0->tensorflow-gpu==2.0.0) (3.1.1)\n",
            "Requirement already satisfied: requests<3,>=2.21.0 in /usr/local/lib/python3.6/dist-packages (from tensorboard<2.1.0,>=2.0.0->tensorflow-gpu==2.0.0) (2.21.0)\n",
            "Collecting google-auth<2,>=1.6.3\n",
            "\u001b[?25l  Downloading https://files.pythonhosted.org/packages/36/f8/84b5771faec3eba9fe0c91c8c5896364a8ba08852c0dea5ad2025026dd95/google_auth-1.10.0-py2.py3-none-any.whl (76kB)\n",
            "\u001b[K     |████████████████████████████████| 81kB 13.1MB/s \n",
            "\u001b[?25hRequirement already satisfied: google-auth-oauthlib<0.5,>=0.4.1 in /usr/local/lib/python3.6/dist-packages (from tensorboard<2.1.0,>=2.0.0->tensorflow-gpu==2.0.0) (0.4.1)\n",
            "Requirement already satisfied: werkzeug>=0.11.15 in /usr/local/lib/python3.6/dist-packages (from tensorboard<2.1.0,>=2.0.0->tensorflow-gpu==2.0.0) (0.16.0)\n",
            "Requirement already satisfied: certifi>=2017.4.17 in /usr/local/lib/python3.6/dist-packages (from requests<3,>=2.21.0->tensorboard<2.1.0,>=2.0.0->tensorflow-gpu==2.0.0) (2019.11.28)\n",
            "Requirement already satisfied: urllib3<1.25,>=1.21.1 in /usr/local/lib/python3.6/dist-packages (from requests<3,>=2.21.0->tensorboard<2.1.0,>=2.0.0->tensorflow-gpu==2.0.0) (1.24.3)\n",
            "Requirement already satisfied: chardet<3.1.0,>=3.0.2 in /usr/local/lib/python3.6/dist-packages (from requests<3,>=2.21.0->tensorboard<2.1.0,>=2.0.0->tensorflow-gpu==2.0.0) (3.0.4)\n",
            "Requirement already satisfied: idna<2.9,>=2.5 in /usr/local/lib/python3.6/dist-packages (from requests<3,>=2.21.0->tensorboard<2.1.0,>=2.0.0->tensorflow-gpu==2.0.0) (2.8)\n",
            "Requirement already satisfied: cachetools<5.0,>=2.0.0 in /usr/local/lib/python3.6/dist-packages (from google-auth<2,>=1.6.3->tensorboard<2.1.0,>=2.0.0->tensorflow-gpu==2.0.0) (3.1.1)\n",
            "Requirement already satisfied: pyasn1-modules>=0.2.1 in /usr/local/lib/python3.6/dist-packages (from google-auth<2,>=1.6.3->tensorboard<2.1.0,>=2.0.0->tensorflow-gpu==2.0.0) (0.2.7)\n",
            "Requirement already satisfied: rsa<4.1,>=3.1.4 in /usr/local/lib/python3.6/dist-packages (from google-auth<2,>=1.6.3->tensorboard<2.1.0,>=2.0.0->tensorflow-gpu==2.0.0) (4.0)\n",
            "Requirement already satisfied: requests-oauthlib>=0.7.0 in /usr/local/lib/python3.6/dist-packages (from google-auth-oauthlib<0.5,>=0.4.1->tensorboard<2.1.0,>=2.0.0->tensorflow-gpu==2.0.0) (1.3.0)\n",
            "Requirement already satisfied: pyasn1<0.5.0,>=0.4.6 in /usr/local/lib/python3.6/dist-packages (from pyasn1-modules>=0.2.1->google-auth<2,>=1.6.3->tensorboard<2.1.0,>=2.0.0->tensorflow-gpu==2.0.0) (0.4.8)\n",
            "Requirement already satisfied: oauthlib>=3.0.0 in /usr/local/lib/python3.6/dist-packages (from requests-oauthlib>=0.7.0->google-auth-oauthlib<0.5,>=0.4.1->tensorboard<2.1.0,>=2.0.0->tensorflow-gpu==2.0.0) (3.1.0)\n",
            "\u001b[31mERROR: tensorflow 1.15.0 has requirement tensorboard<1.16.0,>=1.15.0, but you'll have tensorboard 2.0.2 which is incompatible.\u001b[0m\n",
            "\u001b[31mERROR: tensorflow 1.15.0 has requirement tensorflow-estimator==1.15.1, but you'll have tensorflow-estimator 2.0.1 which is incompatible.\u001b[0m\n",
            "\u001b[31mERROR: tensorboard 2.0.2 has requirement grpcio>=1.24.3, but you'll have grpcio 1.15.0 which is incompatible.\u001b[0m\n",
            "\u001b[31mERROR: google-colab 1.0.0 has requirement google-auth~=1.4.0, but you'll have google-auth 1.10.0 which is incompatible.\u001b[0m\n",
            "Installing collected packages: tensorflow-estimator, google-auth, tensorboard, tensorflow-gpu\n",
            "  Found existing installation: tensorflow-estimator 1.15.1\n",
            "    Uninstalling tensorflow-estimator-1.15.1:\n",
            "      Successfully uninstalled tensorflow-estimator-1.15.1\n",
            "  Found existing installation: google-auth 1.4.2\n",
            "    Uninstalling google-auth-1.4.2:\n",
            "      Successfully uninstalled google-auth-1.4.2\n",
            "  Found existing installation: tensorboard 1.15.0\n",
            "    Uninstalling tensorboard-1.15.0:\n",
            "      Successfully uninstalled tensorboard-1.15.0\n",
            "Successfully installed google-auth-1.10.0 tensorboard-2.0.2 tensorflow-estimator-2.0.1 tensorflow-gpu-2.0.0\n"
          ],
          "name": "stdout"
        },
        {
          "output_type": "display_data",
          "data": {
            "application/vnd.colab-display-data+json": {
              "pip_warning": {
                "packages": [
                  "google",
                  "tensorboard",
                  "tensorflow",
                  "tensorflow_core",
                  "tensorflow_estimator"
                ]
              }
            }
          },
          "metadata": {
            "tags": []
          }
        }
      ]
    },
    {
      "cell_type": "code",
      "metadata": {
        "id": "uDs2crEgd7aA",
        "colab_type": "code",
        "colab": {}
      },
      "source": [
        "\tdef build(width, height, depth, classes):\n",
        "\t\tmodel = Sequential()\n",
        "\t\tinputShape = (height, width, depth)\n",
        "\t\tchanDim = -1\n",
        "\n",
        "\t\t#1st Conv Layer\n",
        "\t\tmodel.add(Conv2D(16, (5, 5), padding=\"same\", input_shape=inputShape)) \n",
        "\t\tmodel.add(Activation(\"relu\"))\n",
        "\t\tmodel.add(BatchNormalization(axis=chanDim))\n",
        "\t\tmodel.add(MaxPooling2D(pool_size=(2, 2)))\n",
        "\n",
        "\t\t#2nd Conv Layer\n",
        "\t\tmodel.add(Conv2D(32, (3, 3), padding=\"same\"))\n",
        "\t\tmodel.add(Activation(\"relu\"))\n",
        "\t\tmodel.add(BatchNormalization(axis=chanDim))\n",
        "\t\tmodel.add(MaxPooling2D(pool_size=(2, 2)))\n",
        "\n",
        "\t\t#3rd Conv Layer\n",
        "\t\tmodel.add(Conv2D(64, (3, 3), padding=\"same\"))\n",
        "\t\tmodel.add(Activation(\"relu\"))\n",
        "\t\tmodel.add(BatchNormalization(axis=chanDim))\n",
        "\t\t\n",
        "\t\t#4th Conv Layer\n",
        "\t\tmodel.add(Conv2D(64, (3, 3), padding=\"same\"))\n",
        "\t\tmodel.add(Activation(\"relu\"))\n",
        "\t\tmodel.add(BatchNormalization(axis=chanDim))\n",
        "\t\tmodel.add(MaxPooling2D(pool_size=(2, 2)))\n",
        "\n",
        "\t\t#1st Fully Connected Layer\n",
        "\t\tmodel.add(Flatten())\n",
        "\t\tmodel.add(Dense(128))\n",
        "\t\tmodel.add(Activation(\"relu\"))\n",
        "\t\tmodel.add(BatchNormalization())\n",
        "\t\tmodel.add(Dropout(0.5))\n",
        "\t\n",
        "\t\t# softmax classifier\n",
        "\t\tmodel.add(Dense(classes))\n",
        "\t\tmodel.add(Activation(\"softmax\"))\n",
        "\n",
        "\t\tmodel.summary()\n",
        "\t\t# return the constructed network architecture\n",
        "\t\treturn model"
      ],
      "execution_count": 0,
      "outputs": []
    },
    {
      "cell_type": "code",
      "metadata": {
        "id": "z2U1M_IDElVF",
        "colab_type": "code",
        "outputId": "e931ccb3-8c50-410a-a29c-5ad0818dcf38",
        "colab": {
          "base_uri": "https://localhost:8080/",
          "height": 125
        }
      },
      "source": [
        "from google.colab import drive\n",
        "drive.mount('/content/drive')"
      ],
      "execution_count": 0,
      "outputs": [
        {
          "output_type": "stream",
          "text": [
            "Go to this URL in a browser: https://accounts.google.com/o/oauth2/auth?client_id=947318989803-6bn6qk8qdgf4n4g3pfee6491hc0brc4i.apps.googleusercontent.com&redirect_uri=urn%3aietf%3awg%3aoauth%3a2.0%3aoob&response_type=code&scope=email%20https%3a%2f%2fwww.googleapis.com%2fauth%2fdocs.test%20https%3a%2f%2fwww.googleapis.com%2fauth%2fdrive%20https%3a%2f%2fwww.googleapis.com%2fauth%2fdrive.photos.readonly%20https%3a%2f%2fwww.googleapis.com%2fauth%2fpeopleapi.readonly\n",
            "\n",
            "Enter your authorization code:\n",
            "··········\n",
            "Mounted at /content/drive\n"
          ],
          "name": "stdout"
        }
      ]
    },
    {
      "cell_type": "markdown",
      "metadata": {
        "id": "d8i7D1U6CYlS",
        "colab_type": "text"
      },
      "source": [
        "Code for training the data starts here"
      ]
    },
    {
      "cell_type": "code",
      "metadata": {
        "id": "llAm28dqCO4P",
        "colab_type": "code",
        "colab": {}
      },
      "source": [
        "EPOCHS = 25\n",
        "learning=0.001\n",
        "batch_sz=64"
      ],
      "execution_count": 0,
      "outputs": []
    },
    {
      "cell_type": "code",
      "metadata": {
        "id": "SQpbh9voEgzR",
        "colab_type": "code",
        "colab": {}
      },
      "source": [
        ""
      ],
      "execution_count": 0,
      "outputs": []
    },
    {
      "cell_type": "code",
      "metadata": {
        "id": "mOEQMvysCPDz",
        "colab_type": "code",
        "colab": {}
      },
      "source": [
        "#########\n",
        "#to check how labelss are stored\n",
        "sign_file=open(\"drive/My Drive/Colab Notebooks/gtsrb-german-traffic-sign/signnames.csv\")\n",
        "labels=sign_file.read().strip().split(\"\\n\")[1:]\n",
        "labels1=[]\n",
        "for l in labels:\n",
        "  labels1.append(l.split(\",\")[1])\n",
        "#print(labels1)"
      ],
      "execution_count": 0,
      "outputs": []
    },
    {
      "cell_type": "code",
      "metadata": {
        "id": "5z9A600xTad5",
        "colab_type": "code",
        "colab": {}
      },
      "source": [
        "import pickle \n",
        "#X=pickle.load(open(\"drive/My Drive/Colab Notebooks/Belgium Dataset/trainxpickle1.p\",\"rb\"))\n",
        "#Y=pickle.load(open(\"drive/My Drive/Colab Notebooks/Belgium Dataset/trainypickle1.p\",\"rb\"))\n",
        "X=pickle.load(open(\"drive/My Drive/Colab Notebooks/gtsrb-german-traffic-sign/trainxpickle.p\",\"rb\"))\n",
        "Y=pickle.load(open(\"drive/My Drive/Colab Notebooks/gtsrb-german-traffic-sign/trainypickle.p\",\"rb\"))"
      ],
      "execution_count": 0,
      "outputs": []
    },
    {
      "cell_type": "code",
      "metadata": {
        "id": "AqDasMbpaOjI",
        "colab_type": "code",
        "colab": {}
      },
      "source": [
        "TrainX, ValX, TrainY, ValY=train_test_split(X, Y, test_size=0.20, random_state=35)"
      ],
      "execution_count": 0,
      "outputs": []
    },
    {
      "cell_type": "code",
      "metadata": {
        "id": "OxVfglBPMhts",
        "colab_type": "code",
        "colab": {}
      },
      "source": [
        "#TestX=pickle.load(open(\"drive/My Drive/Colab Notebooks/Belgium Dataset/testxpickle1.p\",\"rb\"))\n",
        "#TestY=pickle.load(open(\"drive/My Drive/Colab Notebooks/Belgium Dataset/testpickle1.p\",\"rb\"))\n",
        "TestX=pickle.load(open(\"drive/My Drive/Colab Notebooks/gtsrb-german-traffic-sign/testxpickle.p\",\"rb\"))\n",
        "TestY=pickle.load(open(\"drive/My Drive/Colab Notebooks/gtsrb-german-traffic-sign/testypickle.p\",\"rb\"))\n"
      ],
      "execution_count": 0,
      "outputs": []
    },
    {
      "cell_type": "code",
      "metadata": {
        "id": "Xi9BpPprN3dU",
        "colab_type": "code",
        "outputId": "5c4ff456-d963-461a-e240-e8b5f5ab79a6",
        "colab": {
          "base_uri": "https://localhost:8080/",
          "height": 34
        }
      },
      "source": [
        "TrainX = TrainX.astype(\"float32\") / 255.0\n",
        "ValX = ValX.astype(\"float32\") / 255.0\n",
        "TestX=TestX.astype(\"float32\")/255.0\n",
        "print(TrainX.shape)"
      ],
      "execution_count": 0,
      "outputs": [
        {
          "output_type": "stream",
          "text": [
            "(31367, 32, 32, 3)\n"
          ],
          "name": "stdout"
        }
      ]
    },
    {
      "cell_type": "code",
      "metadata": {
        "id": "dLURUVSiJQ3j",
        "colab_type": "code",
        "outputId": "1800d5f4-eea7-4baa-fe47-da950ace0d92",
        "colab": {
          "base_uri": "https://localhost:8080/",
          "height": 34
        }
      },
      "source": [
        "total_classes = len(np.unique(TrainY))\n",
        "print(total_classes)\n",
        "TrainY = to_categorical(TrainY, total_classes)\n",
        "ValY = to_categorical(ValY, total_classes)\n",
        "TestY=to_categorical(TestY, total_classes)\n",
        "#print(TrainY)"
      ],
      "execution_count": 0,
      "outputs": [
        {
          "output_type": "stream",
          "text": [
            "43\n"
          ],
          "name": "stdout"
        }
      ]
    },
    {
      "cell_type": "code",
      "metadata": {
        "id": "rCj_X9lLdJCk",
        "colab_type": "code",
        "colab": {}
      },
      "source": [
        "classTotals = TrainY.sum(axis=0)\n",
        "#print(classTotals)\n",
        "#print(classTotals.max())\n",
        "classWeight = classTotals.max() / classTotals\n",
        "#print(classWeight)"
      ],
      "execution_count": 0,
      "outputs": []
    },
    {
      "cell_type": "code",
      "metadata": {
        "id": "pgMUIB9hdXWf",
        "colab_type": "code",
        "colab": {}
      },
      "source": [
        "aug = ImageDataGenerator(\n",
        "\trotation_range=10,\n",
        "\tzoom_range=0.15,\n",
        "\twidth_shift_range=0.1,\n",
        "\theight_shift_range=0.1,\n",
        "\tshear_range=0.15,\n",
        "\thorizontal_flip=False,\n",
        "\tvertical_flip=False,\n",
        "\tfill_mode=\"nearest\")\n"
      ],
      "execution_count": 0,
      "outputs": []
    },
    {
      "cell_type": "code",
      "metadata": {
        "id": "pVdpz2wXIcnT",
        "colab_type": "code",
        "outputId": "fe1a50ba-98f4-4964-acae-2715ffe71d6e",
        "colab": {
          "base_uri": "https://localhost:8080/",
          "height": 34
        }
      },
      "source": [
        "print(\"[INFO] compiling model...\")\n",
        "opt = Adam(lr=learning)"
      ],
      "execution_count": 0,
      "outputs": [
        {
          "output_type": "stream",
          "text": [
            "[INFO] compiling model...\n"
          ],
          "name": "stdout"
        }
      ]
    },
    {
      "cell_type": "code",
      "metadata": {
        "id": "IpQwIDB8Iuso",
        "colab_type": "code",
        "outputId": "02da4234-e956-4d5c-ece6-9cd3586ec7e1",
        "colab": {
          "base_uri": "https://localhost:8080/",
          "height": 941
        }
      },
      "source": [
        "model = build(width=32, height=32, depth=3,classes=total_classes)"
      ],
      "execution_count": 0,
      "outputs": [
        {
          "output_type": "stream",
          "text": [
            "Model: \"sequential_1\"\n",
            "_________________________________________________________________\n",
            "Layer (type)                 Output Shape              Param #   \n",
            "=================================================================\n",
            "conv2d_4 (Conv2D)            (None, 32, 32, 16)        1216      \n",
            "_________________________________________________________________\n",
            "activation_6 (Activation)    (None, 32, 32, 16)        0         \n",
            "_________________________________________________________________\n",
            "batch_normalization_5 (Batch (None, 32, 32, 16)        64        \n",
            "_________________________________________________________________\n",
            "max_pooling2d_3 (MaxPooling2 (None, 16, 16, 16)        0         \n",
            "_________________________________________________________________\n",
            "conv2d_5 (Conv2D)            (None, 16, 16, 32)        4640      \n",
            "_________________________________________________________________\n",
            "activation_7 (Activation)    (None, 16, 16, 32)        0         \n",
            "_________________________________________________________________\n",
            "batch_normalization_6 (Batch (None, 16, 16, 32)        128       \n",
            "_________________________________________________________________\n",
            "max_pooling2d_4 (MaxPooling2 (None, 8, 8, 32)          0         \n",
            "_________________________________________________________________\n",
            "conv2d_6 (Conv2D)            (None, 8, 8, 64)          18496     \n",
            "_________________________________________________________________\n",
            "activation_8 (Activation)    (None, 8, 8, 64)          0         \n",
            "_________________________________________________________________\n",
            "batch_normalization_7 (Batch (None, 8, 8, 64)          256       \n",
            "_________________________________________________________________\n",
            "conv2d_7 (Conv2D)            (None, 8, 8, 64)          36928     \n",
            "_________________________________________________________________\n",
            "activation_9 (Activation)    (None, 8, 8, 64)          0         \n",
            "_________________________________________________________________\n",
            "batch_normalization_8 (Batch (None, 8, 8, 64)          256       \n",
            "_________________________________________________________________\n",
            "max_pooling2d_5 (MaxPooling2 (None, 4, 4, 64)          0         \n",
            "_________________________________________________________________\n",
            "flatten_1 (Flatten)          (None, 1024)              0         \n",
            "_________________________________________________________________\n",
            "dense_2 (Dense)              (None, 128)               131200    \n",
            "_________________________________________________________________\n",
            "activation_10 (Activation)   (None, 128)               0         \n",
            "_________________________________________________________________\n",
            "batch_normalization_9 (Batch (None, 128)               512       \n",
            "_________________________________________________________________\n",
            "dropout_1 (Dropout)          (None, 128)               0         \n",
            "_________________________________________________________________\n",
            "dense_3 (Dense)              (None, 43)                5547      \n",
            "_________________________________________________________________\n",
            "activation_11 (Activation)   (None, 43)                0         \n",
            "=================================================================\n",
            "Total params: 199,243\n",
            "Trainable params: 198,635\n",
            "Non-trainable params: 608\n",
            "_________________________________________________________________\n"
          ],
          "name": "stdout"
        }
      ]
    },
    {
      "cell_type": "code",
      "metadata": {
        "id": "_HHVHMr-qglj",
        "colab_type": "code",
        "colab": {}
      },
      "source": [
        "model.compile(loss=\"categorical_crossentropy\", optimizer=opt,\n",
        "\tmetrics=[\"accuracy\"])"
      ],
      "execution_count": 0,
      "outputs": []
    },
    {
      "cell_type": "code",
      "metadata": {
        "id": "7Nu_11CAqma-",
        "colab_type": "code",
        "outputId": "aad08432-e6ed-43e9-b3d1-fb0c15d1f778",
        "colab": {
          "base_uri": "https://localhost:8080/",
          "height": 941
        }
      },
      "source": [
        "print(\"[INFO] training network...\")\n",
        "from timeit import default_timer as timer\n",
        "start=timer()\n",
        "H = model.fit_generator(\n",
        "\taug.flow(TrainX, TrainY, batch_size=batch_sz),\n",
        "\tvalidation_data=(ValX, ValY),\n",
        "\tepochs=EPOCHS,\n",
        "\tclass_weight=classWeight,\n",
        "\tverbose=1)\n",
        "end=timer()\n",
        "print(\"Model trained in : \",(end-start),\" seconds\")"
      ],
      "execution_count": 0,
      "outputs": [
        {
          "output_type": "stream",
          "text": [
            "[INFO] training network...\n",
            "Epoch 1/25\n",
            "491/491 [==============================] - 43s 88ms/step - loss: 1.6812 - accuracy: 0.5320 - val_loss: 3.4597 - val_accuracy: 0.1664\n",
            "Epoch 2/25\n",
            "491/491 [==============================] - 42s 86ms/step - loss: 0.5432 - accuracy: 0.8339 - val_loss: 0.2291 - val_accuracy: 0.9346\n",
            "Epoch 3/25\n",
            "491/491 [==============================] - 42s 86ms/step - loss: 0.2944 - accuracy: 0.9118 - val_loss: 0.2281 - val_accuracy: 0.9272\n",
            "Epoch 4/25\n",
            "491/491 [==============================] - 42s 86ms/step - loss: 0.2177 - accuracy: 0.9341 - val_loss: 0.2582 - val_accuracy: 0.9160\n",
            "Epoch 5/25\n",
            "491/491 [==============================] - 42s 86ms/step - loss: 0.1669 - accuracy: 0.9481 - val_loss: 0.1183 - val_accuracy: 0.9619\n",
            "Epoch 6/25\n",
            "491/491 [==============================] - 42s 86ms/step - loss: 0.1380 - accuracy: 0.9586 - val_loss: 0.1976 - val_accuracy: 0.9348\n",
            "Epoch 7/25\n",
            "491/491 [==============================] - 43s 87ms/step - loss: 0.1214 - accuracy: 0.9615 - val_loss: 0.0919 - val_accuracy: 0.9726\n",
            "Epoch 8/25\n",
            "491/491 [==============================] - 43s 87ms/step - loss: 0.0963 - accuracy: 0.9703 - val_loss: 0.0723 - val_accuracy: 0.9772\n",
            "Epoch 9/25\n",
            "491/491 [==============================] - 43s 87ms/step - loss: 0.0910 - accuracy: 0.9713 - val_loss: 0.1843 - val_accuracy: 0.9429\n",
            "Epoch 10/25\n",
            "491/491 [==============================] - 42s 86ms/step - loss: 0.0879 - accuracy: 0.9714 - val_loss: 0.0604 - val_accuracy: 0.9781\n",
            "Epoch 11/25\n",
            "491/491 [==============================] - 42s 86ms/step - loss: 0.0742 - accuracy: 0.9768 - val_loss: 0.1914 - val_accuracy: 0.9394\n",
            "Epoch 12/25\n",
            "491/491 [==============================] - 43s 87ms/step - loss: 0.0678 - accuracy: 0.9781 - val_loss: 0.0360 - val_accuracy: 0.9887\n",
            "Epoch 13/25\n",
            "491/491 [==============================] - 42s 86ms/step - loss: 0.0754 - accuracy: 0.9764 - val_loss: 0.2657 - val_accuracy: 0.9198\n",
            "Epoch 14/25\n",
            "491/491 [==============================] - 42s 86ms/step - loss: 0.0607 - accuracy: 0.9805 - val_loss: 0.3958 - val_accuracy: 0.8954\n",
            "Epoch 15/25\n",
            "491/491 [==============================] - 42s 85ms/step - loss: 0.0632 - accuracy: 0.9802 - val_loss: 0.0951 - val_accuracy: 0.9709\n",
            "Epoch 16/25\n",
            "491/491 [==============================] - 43s 87ms/step - loss: 0.0527 - accuracy: 0.9837 - val_loss: 0.0523 - val_accuracy: 0.9839\n",
            "Epoch 17/25\n",
            "491/491 [==============================] - 42s 85ms/step - loss: 0.0613 - accuracy: 0.9814 - val_loss: 0.0423 - val_accuracy: 0.9879\n",
            "Epoch 18/25\n",
            "491/491 [==============================] - 41s 85ms/step - loss: 0.0483 - accuracy: 0.9839 - val_loss: 0.0784 - val_accuracy: 0.9758\n",
            "Epoch 19/25\n",
            "491/491 [==============================] - 43s 88ms/step - loss: 0.0500 - accuracy: 0.9837 - val_loss: 0.0159 - val_accuracy: 0.9952\n",
            "Epoch 20/25\n",
            "491/491 [==============================] - 43s 87ms/step - loss: 0.0573 - accuracy: 0.9825 - val_loss: 0.0648 - val_accuracy: 0.9802\n",
            "Epoch 21/25\n",
            "491/491 [==============================] - 43s 87ms/step - loss: 0.0458 - accuracy: 0.9854 - val_loss: 0.0267 - val_accuracy: 0.9915\n",
            "Epoch 22/25\n",
            "491/491 [==============================] - 43s 87ms/step - loss: 0.0519 - accuracy: 0.9850 - val_loss: 0.0417 - val_accuracy: 0.9871\n",
            "Epoch 23/25\n",
            "491/491 [==============================] - 44s 89ms/step - loss: 0.0401 - accuracy: 0.9872 - val_loss: 0.3210 - val_accuracy: 0.9022\n",
            "Epoch 24/25\n",
            "491/491 [==============================] - 43s 87ms/step - loss: 0.0513 - accuracy: 0.9844 - val_loss: 0.0446 - val_accuracy: 0.9866\n",
            "Epoch 25/25\n",
            "491/491 [==============================] - 43s 87ms/step - loss: 0.0372 - accuracy: 0.9881 - val_loss: 0.0264 - val_accuracy: 0.9915\n",
            "Model trained in :  1062.5533598460001  seconds\n"
          ],
          "name": "stdout"
        }
      ]
    },
    {
      "cell_type": "code",
      "metadata": {
        "id": "-tN3DHlIz5gn",
        "colab_type": "code",
        "outputId": "a83df347-22ab-432c-b801-714a683a4503",
        "colab": {
          "base_uri": "https://localhost:8080/",
          "height": 804
        }
      },
      "source": [
        "import matplotlib.pyplot as plt\n",
        "plt.figure(figsize=[8,6])\n",
        "plt.plot(H.history['loss'],'r',linewidth=2.0)\n",
        "plt.plot(H.history['val_loss'],'b',linewidth=2.0)\n",
        "plt.legend(['Training loss', 'Validation Loss'],fontsize=16)\n",
        "plt.xlabel('Epochs ',fontsize=15)\n",
        "plt.ylabel('Loss',fontsize=15)\n",
        "plt.title('Loss Curves',fontsize=15)\n",
        " \n",
        "plt.savefig(\"drive/My Drive/Colab Notebooks/gtsrb-german-traffic-sign/Output/train_validation_loss_cnn.png\")\n",
        "\n",
        "#Plot the Accuracy Curves\n",
        "plt.figure(figsize=[8,6])\n",
        "plt.plot(H.history['accuracy'],'r',linewidth=2.0)\n",
        "plt.plot(H.history['val_accuracy'],'b',linewidth=2.0)\n",
        "plt.legend(['Training Accuracy', 'Validation Accuracy'],fontsize=16)\n",
        "plt.xlabel('Epochs ',fontsize=15)\n",
        "plt.ylabel('Accuracy',fontsize=15)\n",
        "plt.title('Accuracy Curves',fontsize=15)\n",
        "plt.savefig(\"drive/My Drive/Colab Notebooks/gtsrb-german-traffic-sign/Output/train_validation_acc_cnn.png\")"
      ],
      "execution_count": 0,
      "outputs": [
        {
          "output_type": "display_data",
          "data": {
            "image/png": "[encoded data removed]",
            "text/plain": [
              "<Figure size 576x432 with 1 Axes>"
            ]
          },
          "metadata": {
            "tags": []
          }
        },
        {
          "output_type": "display_data",
          "data": {
            "image/png": "[encoded data removed]",
            "text/plain": [
              "<Figure size 576x432 with 1 Axes>"
            ]
          },
          "metadata": {
            "tags": []
          }
        }
      ]
    },
    {
      "cell_type": "code",
      "metadata": {
        "id": "Z4dGWMpPHgz2",
        "colab_type": "code",
        "colab": {}
      },
      "source": [
        "from tensorflow.keras.models import load_model\n",
        "cnn_model=load_model(\"drive/My Drive/Colab Notebooks/gtsrb-german-traffic-sign/cnnmodel_v5_E25.model\")"
      ],
      "execution_count": 0,
      "outputs": []
    },
    {
      "cell_type": "code",
      "metadata": {
        "id": "GTPEu96DIHLO",
        "colab_type": "code",
        "outputId": "69f639a5-f51d-42cb-ab54-3511870de886",
        "colab": {
          "base_uri": "https://localhost:8080/",
          "height": 34
        }
      },
      "source": [
        "print(TestX.shape)\n",
        "from timeit import default_timer as timer\n"
      ],
      "execution_count": 0,
      "outputs": [
        {
          "output_type": "stream",
          "text": [
            "(12630, 32, 32, 3)\n"
          ],
          "name": "stdout"
        }
      ]
    },
    {
      "cell_type": "code",
      "metadata": {
        "id": "PHW0XKozTuBk",
        "colab_type": "code",
        "outputId": "1e5c73a2-3eac-43c3-9d8d-631fe2a9455e",
        "colab": {
          "base_uri": "https://localhost:8080/",
          "height": 941
        }
      },
      "source": [
        "print(\"[INFO] evaluating network...\")\n",
        "start=timer()\n",
        "predictions = cnn_model.predict(TestX)\n",
        "end=timer()\n",
        "time=end-start\n",
        "print(\"Model took {} seconds to test all images\",time)\n",
        "print(classification_report(TestY.argmax(axis=1),predictions.argmax(axis=1)))\n"
      ],
      "execution_count": 0,
      "outputs": [
        {
          "output_type": "stream",
          "text": [
            "[INFO] evaluating network...\n",
            "Model took {} seconds to test all images 1.0621197990000155\n",
            "              precision    recall  f1-score   support\n",
            "\n",
            "           0       0.81      1.00      0.90        60\n",
            "           1       0.98      0.99      0.99       720\n",
            "           2       0.89      0.99      0.94       750\n",
            "           3       1.00      0.90      0.95       450\n",
            "           4       1.00      0.95      0.97       660\n",
            "           5       0.94      0.94      0.94       630\n",
            "           6       0.98      0.81      0.89       150\n",
            "           7       0.99      0.98      0.98       450\n",
            "           8       0.98      0.96      0.97       450\n",
            "           9       0.99      0.97      0.98       480\n",
            "          10       1.00      0.98      0.99       660\n",
            "          11       0.91      0.98      0.94       420\n",
            "          12       1.00      0.98      0.99       690\n",
            "          13       0.98      1.00      0.99       720\n",
            "          14       0.99      1.00      0.99       270\n",
            "          15       1.00      1.00      1.00       210\n",
            "          16       1.00      0.97      0.98       150\n",
            "          17       1.00      0.98      0.99       360\n",
            "          18       0.99      0.90      0.94       390\n",
            "          19       1.00      0.80      0.89        60\n",
            "          20       0.82      0.97      0.89        90\n",
            "          21       0.86      1.00      0.92        90\n",
            "          22       0.98      0.87      0.92       120\n",
            "          23       0.85      0.99      0.91       150\n",
            "          24       0.98      0.96      0.97        90\n",
            "          25       0.95      0.99      0.97       480\n",
            "          26       0.94      0.99      0.96       180\n",
            "          27       0.91      0.85      0.88        60\n",
            "          28       0.95      0.97      0.96       150\n",
            "          29       0.97      0.99      0.98        90\n",
            "          30       0.87      0.82      0.85       150\n",
            "          31       1.00      0.97      0.99       270\n",
            "          32       1.00      0.97      0.98        60\n",
            "          33       1.00      0.98      0.99       210\n",
            "          34       0.98      1.00      0.99       120\n",
            "          35       0.99      0.98      0.99       390\n",
            "          36       0.99      0.97      0.98       120\n",
            "          37       0.95      0.98      0.97        60\n",
            "          38       1.00      0.99      0.99       690\n",
            "          39       0.97      0.98      0.97        90\n",
            "          40       0.90      0.96      0.92        90\n",
            "          41       0.78      0.98      0.87        60\n",
            "          42       0.91      0.74      0.82        90\n",
            "\n",
            "    accuracy                           0.97     12630\n",
            "   macro avg       0.95      0.95      0.95     12630\n",
            "weighted avg       0.97      0.97      0.97     12630\n",
            "\n"
          ],
          "name": "stdout"
        }
      ]
    },
    {
      "cell_type": "code",
      "metadata": {
        "id": "nLkJrtL5KGe1",
        "colab_type": "code",
        "outputId": "914f03b5-d8f7-4ac3-d529-e7ea7aeb03ca",
        "colab": {
          "base_uri": "https://localhost:8080/",
          "height": 34
        }
      },
      "source": [
        "from sklearn import metrics\n",
        "print(metrics.accuracy_score(predictions.argmax(axis=1),TestY.argmax(axis=1)))"
      ],
      "execution_count": 0,
      "outputs": [
        {
          "output_type": "stream",
          "text": [
            "0.9654790182106097\n"
          ],
          "name": "stdout"
        }
      ]
    },
    {
      "cell_type": "code",
      "metadata": {
        "id": "XX2W8o4_UH5z",
        "colab_type": "code",
        "outputId": "c45643bc-4701-427d-c367-33aacd22474c",
        "colab": {
          "base_uri": "https://localhost:8080/",
          "height": 107
        }
      },
      "source": [
        "model.save(\"drive/My Drive/Colab Notebooks/gtsrb-german-traffic-sign/cnnmodel_v5_E25.model\")\n",
        "#model.save(\"drive/My Drive/Colab Notebooks/Belgium Dataset/cnnmodel_v1.model\")"
      ],
      "execution_count": 0,
      "outputs": [
        {
          "output_type": "stream",
          "text": [
            "WARNING:tensorflow:From /usr/local/lib/python3.6/dist-packages/tensorflow_core/python/ops/resource_variable_ops.py:1781: calling BaseResourceVariable.__init__ (from tensorflow.python.ops.resource_variable_ops) with constraint is deprecated and will be removed in a future version.\n",
            "Instructions for updating:\n",
            "If using Keras pass *_constraint arguments to layers.\n",
            "INFO:tensorflow:Assets written to: drive/My Drive/Colab Notebooks/gtsrb-german-traffic-sign/cnnmodel_v5_E25.model/assets\n"
          ],
          "name": "stdout"
        }
      ]
    },
    {
      "cell_type": "code",
      "metadata": {
        "id": "14uoARgCquis",
        "colab_type": "code",
        "colab": {}
      },
      "source": [
        ""
      ],
      "execution_count": 0,
      "outputs": []
    }
  ]
}