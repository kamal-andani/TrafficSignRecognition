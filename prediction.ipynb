{
  "nbformat": 4,
  "nbformat_minor": 0,
  "metadata": {
    "colab": {
      "name": "prediction.ipynb",
      "provenance": [],
      "collapsed_sections": []
    },
    "kernelspec": {
      "name": "python3",
      "display_name": "Python 3"
    },
    "accelerator": "GPU"
  },
  "cells": [
    {
      "cell_type": "code",
      "metadata": {
        "id": "Pr5o9SJyQhW8",
        "colab_type": "code",
        "outputId": "cff23b07-b47b-4755-8863-0126368e1fd5",
        "colab": {
          "base_uri": "https://localhost:8080/",
          "height": 463
        }
      },
      "source": [
        "from tensorflow.keras.models import load_model\n",
        "from skimage import transform\n",
        "from skimage import exposure\n",
        "from skimage import io\n",
        "from imutils import paths\n",
        "import numpy as np\n",
        "import argparse\n",
        "import imutils\n",
        "import random\n",
        "import cv2\n",
        "import os\n",
        "import pickle\n"
      ],
      "execution_count": 0,
      "outputs": [
        {
          "output_type": "stream",
          "text": [
            "/usr/local/lib/python3.6/dist-packages/tensorflow/python/framework/dtypes.py:523: FutureWarning: Passing (type, 1) or '1type' as a synonym of type is deprecated; in a future version of numpy, it will be understood as (type, (1,)) / '(1,)type'.\n",
            "  _np_qint8 = np.dtype([(\"qint8\", np.int8, 1)])\n",
            "/usr/local/lib/python3.6/dist-packages/tensorflow/python/framework/dtypes.py:524: FutureWarning: Passing (type, 1) or '1type' as a synonym of type is deprecated; in a future version of numpy, it will be understood as (type, (1,)) / '(1,)type'.\n",
            "  _np_quint8 = np.dtype([(\"quint8\", np.uint8, 1)])\n",
            "/usr/local/lib/python3.6/dist-packages/tensorflow/python/framework/dtypes.py:525: FutureWarning: Passing (type, 1) or '1type' as a synonym of type is deprecated; in a future version of numpy, it will be understood as (type, (1,)) / '(1,)type'.\n",
            "  _np_qint16 = np.dtype([(\"qint16\", np.int16, 1)])\n",
            "/usr/local/lib/python3.6/dist-packages/tensorflow/python/framework/dtypes.py:526: FutureWarning: Passing (type, 1) or '1type' as a synonym of type is deprecated; in a future version of numpy, it will be understood as (type, (1,)) / '(1,)type'.\n",
            "  _np_quint16 = np.dtype([(\"quint16\", np.uint16, 1)])\n",
            "/usr/local/lib/python3.6/dist-packages/tensorflow/python/framework/dtypes.py:527: FutureWarning: Passing (type, 1) or '1type' as a synonym of type is deprecated; in a future version of numpy, it will be understood as (type, (1,)) / '(1,)type'.\n",
            "  _np_qint32 = np.dtype([(\"qint32\", np.int32, 1)])\n",
            "/usr/local/lib/python3.6/dist-packages/tensorflow/python/framework/dtypes.py:532: FutureWarning: Passing (type, 1) or '1type' as a synonym of type is deprecated; in a future version of numpy, it will be understood as (type, (1,)) / '(1,)type'.\n",
            "  np_resource = np.dtype([(\"resource\", np.ubyte, 1)])\n",
            "/usr/local/lib/python3.6/dist-packages/tensorboard/compat/tensorflow_stub/dtypes.py:541: FutureWarning: Passing (type, 1) or '1type' as a synonym of type is deprecated; in a future version of numpy, it will be understood as (type, (1,)) / '(1,)type'.\n",
            "  _np_qint8 = np.dtype([(\"qint8\", np.int8, 1)])\n",
            "/usr/local/lib/python3.6/dist-packages/tensorboard/compat/tensorflow_stub/dtypes.py:542: FutureWarning: Passing (type, 1) or '1type' as a synonym of type is deprecated; in a future version of numpy, it will be understood as (type, (1,)) / '(1,)type'.\n",
            "  _np_quint8 = np.dtype([(\"quint8\", np.uint8, 1)])\n",
            "/usr/local/lib/python3.6/dist-packages/tensorboard/compat/tensorflow_stub/dtypes.py:543: FutureWarning: Passing (type, 1) or '1type' as a synonym of type is deprecated; in a future version of numpy, it will be understood as (type, (1,)) / '(1,)type'.\n",
            "  _np_qint16 = np.dtype([(\"qint16\", np.int16, 1)])\n",
            "/usr/local/lib/python3.6/dist-packages/tensorboard/compat/tensorflow_stub/dtypes.py:544: FutureWarning: Passing (type, 1) or '1type' as a synonym of type is deprecated; in a future version of numpy, it will be understood as (type, (1,)) / '(1,)type'.\n",
            "  _np_quint16 = np.dtype([(\"quint16\", np.uint16, 1)])\n",
            "/usr/local/lib/python3.6/dist-packages/tensorboard/compat/tensorflow_stub/dtypes.py:545: FutureWarning: Passing (type, 1) or '1type' as a synonym of type is deprecated; in a future version of numpy, it will be understood as (type, (1,)) / '(1,)type'.\n",
            "  _np_qint32 = np.dtype([(\"qint32\", np.int32, 1)])\n",
            "/usr/local/lib/python3.6/dist-packages/tensorboard/compat/tensorflow_stub/dtypes.py:550: FutureWarning: Passing (type, 1) or '1type' as a synonym of type is deprecated; in a future version of numpy, it will be understood as (type, (1,)) / '(1,)type'.\n",
            "  np_resource = np.dtype([(\"resource\", np.ubyte, 1)])\n"
          ],
          "name": "stderr"
        }
      ]
    },
    {
      "cell_type": "code",
      "metadata": {
        "id": "OiuGKMZrSEj4",
        "colab_type": "code",
        "outputId": "bb56166f-20f9-40b8-ec48-27b100a1dded",
        "colab": {
          "base_uri": "https://localhost:8080/",
          "height": 374
        }
      },
      "source": [
        "!pip install tensorflow-gpu==2.0.0-alpha0"
      ],
      "execution_count": 0,
      "outputs": [
        {
          "output_type": "stream",
          "text": [
            "Requirement already satisfied: tensorflow-gpu==2.0.0-alpha0 in /usr/local/lib/python3.6/dist-packages (2.0.0a0)\n",
            "Requirement already satisfied: wheel>=0.26 in /usr/local/lib/python3.6/dist-packages (from tensorflow-gpu==2.0.0-alpha0) (0.33.6)\n",
            "Requirement already satisfied: tf-estimator-nightly<1.14.0.dev2019030116,>=1.14.0.dev2019030115 in /usr/local/lib/python3.6/dist-packages (from tensorflow-gpu==2.0.0-alpha0) (1.14.0.dev2019030115)\n",
            "Requirement already satisfied: numpy<2.0,>=1.14.5 in /usr/local/lib/python3.6/dist-packages (from tensorflow-gpu==2.0.0-alpha0) (1.17.4)\n",
            "Requirement already satisfied: gast>=0.2.0 in /usr/local/lib/python3.6/dist-packages (from tensorflow-gpu==2.0.0-alpha0) (0.2.2)\n",
            "Requirement already satisfied: protobuf>=3.6.1 in /usr/local/lib/python3.6/dist-packages (from tensorflow-gpu==2.0.0-alpha0) (3.10.0)\n",
            "Requirement already satisfied: grpcio>=1.8.6 in /usr/local/lib/python3.6/dist-packages (from tensorflow-gpu==2.0.0-alpha0) (1.15.0)\n",
            "Requirement already satisfied: astor>=0.6.0 in /usr/local/lib/python3.6/dist-packages (from tensorflow-gpu==2.0.0-alpha0) (0.8.1)\n",
            "Requirement already satisfied: keras-applications>=1.0.6 in /usr/local/lib/python3.6/dist-packages (from tensorflow-gpu==2.0.0-alpha0) (1.0.8)\n",
            "Requirement already satisfied: google-pasta>=0.1.2 in /usr/local/lib/python3.6/dist-packages (from tensorflow-gpu==2.0.0-alpha0) (0.1.8)\n",
            "Requirement already satisfied: termcolor>=1.1.0 in /usr/local/lib/python3.6/dist-packages (from tensorflow-gpu==2.0.0-alpha0) (1.1.0)\n",
            "Requirement already satisfied: keras-preprocessing>=1.0.5 in /usr/local/lib/python3.6/dist-packages (from tensorflow-gpu==2.0.0-alpha0) (1.1.0)\n",
            "Requirement already satisfied: tb-nightly<1.14.0a20190302,>=1.14.0a20190301 in /usr/local/lib/python3.6/dist-packages (from tensorflow-gpu==2.0.0-alpha0) (1.14.0a20190301)\n",
            "Requirement already satisfied: absl-py>=0.7.0 in /usr/local/lib/python3.6/dist-packages (from tensorflow-gpu==2.0.0-alpha0) (0.8.1)\n",
            "Requirement already satisfied: six>=1.10.0 in /usr/local/lib/python3.6/dist-packages (from tensorflow-gpu==2.0.0-alpha0) (1.12.0)\n",
            "Requirement already satisfied: setuptools in /usr/local/lib/python3.6/dist-packages (from protobuf>=3.6.1->tensorflow-gpu==2.0.0-alpha0) (42.0.2)\n",
            "Requirement already satisfied: h5py in /usr/local/lib/python3.6/dist-packages (from keras-applications>=1.0.6->tensorflow-gpu==2.0.0-alpha0) (2.8.0)\n",
            "Requirement already satisfied: markdown>=2.6.8 in /usr/local/lib/python3.6/dist-packages (from tb-nightly<1.14.0a20190302,>=1.14.0a20190301->tensorflow-gpu==2.0.0-alpha0) (3.1.1)\n",
            "Requirement already satisfied: werkzeug>=0.11.15 in /usr/local/lib/python3.6/dist-packages (from tb-nightly<1.14.0a20190302,>=1.14.0a20190301->tensorflow-gpu==2.0.0-alpha0) (0.16.0)\n"
          ],
          "name": "stdout"
        }
      ]
    },
    {
      "cell_type": "code",
      "metadata": {
        "id": "nkztnDOySnsw",
        "colab_type": "code",
        "outputId": "b2c9b672-9b4b-4a33-e6b2-0d0015981996",
        "colab": {
          "base_uri": "https://localhost:8080/",
          "height": 125
        }
      },
      "source": [
        "from google.colab import drive\n",
        "drive.mount('/content/drive')"
      ],
      "execution_count": 0,
      "outputs": [
        {
          "output_type": "stream",
          "text": [
            "Go to this URL in a browser: https://accounts.google.com/o/oauth2/auth?client_id=947318989803-6bn6qk8qdgf4n4g3pfee6491hc0brc4i.apps.googleusercontent.com&redirect_uri=urn%3aietf%3awg%3aoauth%3a2.0%3aoob&response_type=code&scope=email%20https%3a%2f%2fwww.googleapis.com%2fauth%2fdocs.test%20https%3a%2f%2fwww.googleapis.com%2fauth%2fdrive%20https%3a%2f%2fwww.googleapis.com%2fauth%2fdrive.photos.readonly%20https%3a%2f%2fwww.googleapis.com%2fauth%2fpeopleapi.readonly\n",
            "\n",
            "Enter your authorization code:\n",
            "··········\n",
            "Mounted at /content/drive\n"
          ],
          "name": "stdout"
        }
      ]
    },
    {
      "cell_type": "code",
      "metadata": {
        "id": "m1jBwClTR9A-",
        "colab_type": "code",
        "colab": {}
      },
      "source": [
        "model=load_model(\"drive/My Drive/Colab Notebooks/gtsrb-german-traffic-sign/cnnmodel_v3_E30.model\")"
      ],
      "execution_count": 0,
      "outputs": []
    },
    {
      "cell_type": "code",
      "metadata": {
        "id": "CT6yxO8JUVGa",
        "colab_type": "code",
        "colab": {}
      },
      "source": [
        "#TestX=pickle.load(open(\"drive/My Drive/Colab Notebooks/gtsrb-german-traffic-sign/testxpickle.p\",\"rb\"))\n",
        "#TestY=pickle.load(open(\"drive/My Drive/Colab Notebooks/gtsrb-german-traffic-sign/testypickle.p\",\"rb\"))\n"
      ],
      "execution_count": 0,
      "outputs": []
    },
    {
      "cell_type": "code",
      "metadata": {
        "id": "C9gFoQ6KVmz9",
        "colab_type": "code",
        "colab": {}
      },
      "source": [
        ""
      ],
      "execution_count": 0,
      "outputs": []
    },
    {
      "cell_type": "code",
      "metadata": {
        "id": "-t0evzUk2d9B",
        "colab_type": "code",
        "colab": {}
      },
      "source": [
        "labelNames = open(\"drive/My Drive/Colab Notebooks/gtsrb-german-traffic-sign/signnames.csv\").read().strip().split(\"\\n\")[1:]\n",
        "labelNames = [l.split(\",\")[1] for l in labelNames]\n"
      ],
      "execution_count": 0,
      "outputs": []
    },
    {
      "cell_type": "code",
      "metadata": {
        "id": "jDlNErzMhmTT",
        "colab_type": "code",
        "colab": {}
      },
      "source": [
        "row_test=open(\"drive/My Drive/Colab Notebooks/gtsrb-german-traffic-sign/Test.csv\").read().strip().split(\"\\n\")[1:]\n",
        "random.Random(20).shuffle(row_test)\n",
        "row_test=row_test[:100]\n",
        "label_test=[]\n",
        "for row in row_test:\n",
        "  label_test.append(int(row.split(\",\")[-2]))\n",
        "\n",
        "#random.Random(20).shuffle(label_test)\n",
        "#print(label_test)"
      ],
      "execution_count": 0,
      "outputs": []
    },
    {
      "cell_type": "code",
      "metadata": {
        "id": "OmlhO0G_Bqqw",
        "colab_type": "code",
        "colab": {}
      },
      "source": [
        "from timeit import default_timer as timer\n"
      ],
      "execution_count": 0,
      "outputs": []
    },
    {
      "cell_type": "code",
      "metadata": {
        "id": "5lkFx0TW4itQ",
        "colab_type": "code",
        "outputId": "e39d12d4-966c-46ab-a096-26e2b5bbb25c",
        "colab": {
          "base_uri": "https://localhost:8080/",
          "height": 52
        }
      },
      "source": [
        "#imagePaths = list(paths.list_images(\"drive/My Drive/Colab Notebooks/gtsrb-german-traffic-sign/Test\"))\n",
        "imagePaths=open(\"drive/My Drive/Colab Notebooks/gtsrb-german-traffic-sign/Test.csv\").read().strip().split(\"\\n\")[1:]\n",
        "random.Random(20).shuffle(imagePaths)\n",
        "\n",
        "imagePaths = imagePaths[:100]\n",
        "label=[]\n",
        "label_pred=[]\n",
        "path=[]\n",
        "start=timer()\n",
        "basepath=\"drive/My Drive/Colab Notebooks/gtsrb-german-traffic-sign\"\n",
        "for row in imagePaths:\n",
        "\timgPath=row.split(\",\")[-1]\n",
        "\timagePath=os.path.sep.join([basepath,imgPath])\n",
        "\tpath.append(imagePath)\n",
        "\timage = io.imread(imagePath)\n",
        "\t\n",
        "\timage = transform.resize(image, (32, 32))\n",
        "\timage = exposure.equalize_adapthist(image, clip_limit=0.1)\n",
        "\timage = image.astype(\"float32\") / 255.0\n",
        "\timage = np.expand_dims(image, axis=0)\n",
        "\tpreds = model.predict(image)\n",
        "\tj = preds.argmax(axis=1)[0]\n",
        "\tlabel_pred.append(j)\n",
        "\tlabel.append(labelNames[j])\n",
        "\n",
        "end=timer()\n",
        "time=end-start"
      ],
      "execution_count": 0,
      "outputs": [
        {
          "output_type": "stream",
          "text": [
            "/usr/local/lib/python3.6/dist-packages/skimage/util/dtype.py:135: UserWarning: Possible precision loss when converting from float64 to uint16\n",
            "  .format(dtypeobj_in, dtypeobj_out))\n"
          ],
          "name": "stderr"
        }
      ]
    },
    {
      "cell_type": "code",
      "metadata": {
        "id": "hxDn1T-zCGCO",
        "colab_type": "code",
        "outputId": "8350d9d4-f43a-40e3-bf52-2f376084d684",
        "colab": {
          "base_uri": "https://localhost:8080/",
          "height": 34
        }
      },
      "source": [
        "print(\"Model took {} seconds to predict all test images\",time)"
      ],
      "execution_count": 0,
      "outputs": [
        {
          "output_type": "stream",
          "text": [
            "Model took {} seconds to predict all test images 3.089135963999979\n"
          ],
          "name": "stdout"
        }
      ]
    },
    {
      "cell_type": "code",
      "metadata": {
        "id": "dCZ-lCeqIaNo",
        "colab_type": "code",
        "outputId": "04214010-8540-4100-9559-f732129920a9",
        "colab": {
          "base_uri": "https://localhost:8080/",
          "height": 34
        }
      },
      "source": [
        "print(len(path))"
      ],
      "execution_count": 0,
      "outputs": [
        {
          "output_type": "stream",
          "text": [
            "100\n"
          ],
          "name": "stdout"
        }
      ]
    },
    {
      "cell_type": "code",
      "metadata": {
        "id": "wnUTgP_gz5ZX",
        "colab_type": "code",
        "outputId": "58ac8909-3a36-4665-fddd-fd8c0c4a5a17",
        "colab": {
          "base_uri": "https://localhost:8080/",
          "height": 152
        }
      },
      "source": [
        "\n",
        "n=70\n",
        "from google.colab.patches import cv2_imshow\n",
        "test_img=cv2.imread(path[n])\n",
        "test_img=cv2.resize(test_img,(100,100))\n",
        "cv2_imshow(test_img)\n",
        "print(\"Predicted Label: \",label[n])\n",
        "print(\"Actual Label :\",labelNames[label_test[n]])"
      ],
      "execution_count": 0,
      "outputs": [
        {
          "output_type": "display_data",
          "data": {
            "image/png": "[encoded data removed]",
            "text/plain": [
              "<PIL.Image.Image image mode=RGB size=100x100 at 0x7F85958C77B8>"
            ]
          },
          "metadata": {
            "tags": []
          }
        },
        {
          "output_type": "stream",
          "text": [
            "Predicted Label:  Speed limit (120km/h)\n",
            "Actual Label : Speed limit (120km/h)\n"
          ],
          "name": "stdout"
        }
      ]
    },
    {
      "cell_type": "code",
      "metadata": {
        "id": "DFocLEJukC6H",
        "colab_type": "code",
        "outputId": "36d0e22a-9a90-473b-c377-5589c88155bf",
        "colab": {
          "base_uri": "https://localhost:8080/",
          "height": 51
        }
      },
      "source": [
        "print(label_test[n])\n",
        "print(label_pred[n])"
      ],
      "execution_count": 0,
      "outputs": [
        {
          "output_type": "stream",
          "text": [
            "8\n",
            "8\n"
          ],
          "name": "stdout"
        }
      ]
    },
    {
      "cell_type": "code",
      "metadata": {
        "id": "xLkcisCCjSzl",
        "colab_type": "code",
        "outputId": "dc0817cb-6b63-45be-daeb-da6ceed174b7",
        "colab": {
          "base_uri": "https://localhost:8080/",
          "height": 904
        }
      },
      "source": [
        "from sklearn.metrics import classification_report\n",
        "\n",
        "print(classification_report(label_test,label_pred))\n"
      ],
      "execution_count": 0,
      "outputs": [
        {
          "output_type": "stream",
          "text": [
            "              precision    recall  f1-score   support\n",
            "\n",
            "           0       1.00      1.00      1.00         1\n",
            "           1       1.00      1.00      1.00         3\n",
            "           2       1.00      1.00      1.00         6\n",
            "           3       1.00      1.00      1.00         3\n",
            "           4       1.00      1.00      1.00         3\n",
            "           5       1.00      1.00      1.00         4\n",
            "           6       1.00      1.00      1.00         1\n",
            "           7       1.00      1.00      1.00         5\n",
            "           8       1.00      1.00      1.00         4\n",
            "           9       1.00      1.00      1.00         2\n",
            "          10       1.00      1.00      1.00         5\n",
            "          11       1.00      1.00      1.00         3\n",
            "          12       1.00      1.00      1.00         5\n",
            "          13       1.00      1.00      1.00         1\n",
            "          15       1.00      1.00      1.00         2\n",
            "          16       1.00      1.00      1.00         2\n",
            "          17       1.00      1.00      1.00         2\n",
            "          18       1.00      1.00      1.00         4\n",
            "          19       1.00      1.00      1.00         1\n",
            "          20       1.00      1.00      1.00         1\n",
            "          22       1.00      1.00      1.00         2\n",
            "          23       0.67      1.00      0.80         2\n",
            "          24       1.00      1.00      1.00         1\n",
            "          25       1.00      1.00      1.00        11\n",
            "          26       1.00      1.00      1.00         2\n",
            "          28       1.00      1.00      1.00         2\n",
            "          29       1.00      1.00      1.00         1\n",
            "          30       0.00      0.00      0.00         1\n",
            "          31       1.00      1.00      1.00         3\n",
            "          32       1.00      1.00      1.00         1\n",
            "          33       1.00      1.00      1.00         2\n",
            "          34       1.00      1.00      1.00         1\n",
            "          35       1.00      1.00      1.00         1\n",
            "          36       1.00      1.00      1.00         2\n",
            "          37       1.00      1.00      1.00         1\n",
            "          38       1.00      1.00      1.00         5\n",
            "          39       1.00      1.00      1.00         2\n",
            "          40       1.00      1.00      1.00         1\n",
            "          41       0.00      0.00      0.00         0\n",
            "          42       0.00      0.00      0.00         1\n",
            "\n",
            "    accuracy                           0.98       100\n",
            "   macro avg       0.92      0.93      0.92       100\n",
            "weighted avg       0.97      0.98      0.98       100\n",
            "\n"
          ],
          "name": "stdout"
        },
        {
          "output_type": "stream",
          "text": [
            "/usr/local/lib/python3.6/dist-packages/sklearn/metrics/classification.py:1437: UndefinedMetricWarning: Precision and F-score are ill-defined and being set to 0.0 in labels with no predicted samples.\n",
            "  'precision', 'predicted', average, warn_for)\n",
            "/usr/local/lib/python3.6/dist-packages/sklearn/metrics/classification.py:1439: UndefinedMetricWarning: Recall and F-score are ill-defined and being set to 0.0 in labels with no true samples.\n",
            "  'recall', 'true', average, warn_for)\n"
          ],
          "name": "stderr"
        }
      ]
    },
    {
      "cell_type": "code",
      "metadata": {
        "id": "AYccOX3Plb-_",
        "colab_type": "code",
        "colab": {}
      },
      "source": [
        ""
      ],
      "execution_count": 0,
      "outputs": []
    }
  ]
}